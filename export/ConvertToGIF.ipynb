{
 "cells": [
  {
   "cell_type": "code",
   "execution_count": null,
   "metadata": {},
   "outputs": [],
   "source": [
    "# arrange videos side-by-side and add text\n",
    "import os\n",
    "\n",
    "videos = [\n",
    "    \"media/lowres_highsnr/FMLP/225/timecoded_cfr.mp4\",\n",
    "    \"media/lowres_highsnr/FMLP/450/timecoded_cfr.mp4\",\n",
    "    \"media/lowres_highsnr/FMLP/900/timecoded_cfr.mp4\",\n",
    "    \"media/lowres_highsnr/BH/900/timecoded_cfr.mp4\"\n",
    "]\n",
    "titles = [\"T=225\", \"T=450\", \"T=900\", \"BH reference\"]\n",
    "w, h = 134, 134\n",
    "\n",
    "N = len(videos)\n",
    "command = \"ffmpeg -y \" + \" \".join([\"-i \\\"{}\\\"\".format(v) for v in videos]) + \" -filter_complex \\\"[0:v]pad=iw*{}:ih[int0]\".format(N) # pad the first video\n",
    "for i in range(1, N):\n",
    "    command += \";[{}:v][0:v]scale2ref[scaled{}],nullsink;[int{}][scaled{}]overlay={}*W/{}:0[int{}]\".format(i,i,i-1, i, i, N, i) # scale video to same dimensions as the first video and overlay it\n",
    "command += \";[int{}]pad=iw:ih+30[text0]\".format(N-1)\n",
    "\n",
    "for i in range(N):\n",
    "    command += \";[text{}]drawtext=fontfile=arial.ttf:text='{}':fontcolor=white:fontsize=15:x=({}-text_w/2):y=({}+15-text_h/2)[text{}]\".format(i, titles[i], w/2 + w * i, h, i+1)\n",
    "command += \"\\\" -map '[text{}]' output.mp4\".format(N)\n",
    "\n",
    "print(command)\n",
    "\n",
    "os.system(command)\n",
    "#os.system(\"ffmpeg -y -i \\\"{}\\\" -i \\\"{}\\\" -i \\\"{}\\\" -i \\\"{}\\\" -filter_complex '[0:v]pad=iw*3:ih[int];[int][1:v]overlay=W/3:0[int2];[int2][2:v]overlay=2*W/3:0[vid]' -map '[vid]' output.mp4\".format(videos[0], videos[1], videos[2], videos[3]))"
   ]
  },
  {
   "cell_type": "code",
   "execution_count": null,
   "metadata": {},
   "outputs": [],
   "source": [
    "# convert to gif\n",
    "import os\n",
    "import glob\n",
    "\n",
    "videos = glob.glob(\"media/**/timecoded_cfr.mp4\", recursive=True)\n",
    "for v in videos:\n",
    "    output = os.path.join(os.path.dirname(v), \"timecoded_cfr.gif\")\n",
    "    os.system(\"palette=\\\"/tmp/palette.png\\\"; filters=\\\"\\\"; ffmpeg -i {input} -vf \\\"palettegen\\\" -y $palette; ffmpeg -i \\\"{input}\\\" -i $palette -lavfi \\\"[0:v][1:v] paletteuse\\\" -y \\\"{out}\\\"; \".format(input=v, out=output))"
   ]
  }
 ],
 "metadata": {
  "kernelspec": {
   "display_name": "base",
   "language": "python",
   "name": "python3"
  },
  "language_info": {
   "codemirror_mode": {
    "name": "ipython",
    "version": 3
   },
   "file_extension": ".py",
   "mimetype": "text/x-python",
   "name": "python",
   "nbconvert_exporter": "python",
   "pygments_lexer": "ipython3",
   "version": "3.7.7"
  },
  "orig_nbformat": 4
 },
 "nbformat": 4,
 "nbformat_minor": 2
}
