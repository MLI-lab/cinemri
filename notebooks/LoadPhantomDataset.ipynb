{
 "cells": [
  {
   "cell_type": "code",
   "execution_count": 2,
   "metadata": {},
   "outputs": [],
   "source": [
    "from src import *"
   ]
  },
  {
   "cell_type": "code",
   "execution_count": 3,
   "metadata": {},
   "outputs": [],
   "source": [
    "cartesian_dataset = CartesianDataset.from_npyfiles(\"data/xcat/phantom3/low_res_as_cava_v1_10\")\n",
    "listfile = ListData(\"data/xcat/phantom3/low_res_as_cava_v1_10.list\")\n",
    "dataset, validation_dataset = SparseCartesianDataset.from_cartesian_dataset_extract_validation_dataset_rebin(cartesian_dataset, \"data/xcat/phantom3/low_res_as_cava_v1_10.list\", validation_percentage=5, max_Nk=225)"
   ]
  },
  {
   "cell_type": "code",
   "execution_count": 9,
   "metadata": {},
   "outputs": [
    {
     "data": {
      "text/plain": [
       "tensor([[[[ 0.0000,  2.8376, -3.1416],\n",
       "          [ 0.0000,  2.8376, -3.1178],\n",
       "          [ 0.0000,  2.8376, -3.0940],\n",
       "          ...,\n",
       "          [ 0.0000,  2.8376,  3.0702],\n",
       "          [ 0.0000,  2.8376,  3.0940],\n",
       "          [ 0.0000,  2.8376,  3.1178]],\n",
       "\n",
       "         [[ 0.0000,  2.7024, -3.1416],\n",
       "          [ 0.0000,  2.7024, -3.1178],\n",
       "          [ 0.0000,  2.7024, -3.0940],\n",
       "          ...,\n",
       "          [ 0.0000,  2.7024,  3.0702],\n",
       "          [ 0.0000,  2.7024,  3.0940],\n",
       "          [ 0.0000,  2.7024,  3.1178]],\n",
       "\n",
       "         [[ 0.0000,  2.5335, -3.1416],\n",
       "          [ 0.0000,  2.5335, -3.1178],\n",
       "          [ 0.0000,  2.5335, -3.0940],\n",
       "          ...,\n",
       "          [ 0.0000,  2.5335,  3.0702],\n",
       "          [ 0.0000,  2.5335,  3.0940],\n",
       "          [ 0.0000,  2.5335,  3.1178]],\n",
       "\n",
       "         [[ 0.0000,  2.3984, -3.1416],\n",
       "          [ 0.0000,  2.3984, -3.1178],\n",
       "          [ 0.0000,  2.3984, -3.0940],\n",
       "          ...,\n",
       "          [ 0.0000,  2.3984,  3.0702],\n",
       "          [ 0.0000,  2.3984,  3.0940],\n",
       "          [ 0.0000,  2.3984,  3.1178]],\n",
       "\n",
       "         [[ 0.0000,  2.2633, -3.1416],\n",
       "          [ 0.0000,  2.2633, -3.1178],\n",
       "          [ 0.0000,  2.2633, -3.0940],\n",
       "          ...,\n",
       "          [ 0.0000,  2.2633,  3.0702],\n",
       "          [ 0.0000,  2.2633,  3.0940],\n",
       "          [ 0.0000,  2.2633,  3.1178]],\n",
       "\n",
       "         [[ 0.0000,  2.1282, -3.1416],\n",
       "          [ 0.0000,  2.1282, -3.1178],\n",
       "          [ 0.0000,  2.1282, -3.0940],\n",
       "          ...,\n",
       "          [ 0.0000,  2.1282,  3.0702],\n",
       "          [ 0.0000,  2.1282,  3.0940],\n",
       "          [ 0.0000,  2.1282,  3.1178]]]])"
      ]
     },
     "execution_count": 9,
     "metadata": {},
     "output_type": "execute_result"
    }
   ],
   "source": [
    "dataset[0][\"trajectory\"]"
   ]
  }
 ],
 "metadata": {
  "kernelspec": {
   "display_name": "base",
   "language": "python",
   "name": "python3"
  },
  "language_info": {
   "codemirror_mode": {
    "name": "ipython",
    "version": 3
   },
   "file_extension": ".py",
   "mimetype": "text/x-python",
   "name": "python",
   "nbconvert_exporter": "python",
   "pygments_lexer": "ipython3",
   "version": "3.7.7"
  },
  "orig_nbformat": 4
 },
 "nbformat": 4,
 "nbformat_minor": 2
}
