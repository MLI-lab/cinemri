{
 "cells": [
  {
   "cell_type": "code",
   "execution_count": 1,
   "metadata": {},
   "outputs": [],
   "source": [
    "from src import *\n",
    "from data.scanner.CAVA_V1 import *"
   ]
  },
  {
   "cell_type": "code",
   "execution_count": 2,
   "metadata": {},
   "outputs": [],
   "source": [
    "# dataset_info = datasets_cava_v1[13]\n",
    "# dataset, validation_dataset = NonCartesianDataset3D.from_mat_file_binned_validation(dataset_info[\"matfile_path\"],\n",
    "#                                                                                     dataset_info[\"listfile_path\"],\n",
    "#                                                                                     6,\n",
    "#                                                                                     5,\n",
    "#                                                                                     convert_to_rad=True,\n",
    "#                                                                                     has_norm_fac=True,\n",
    "#                                                                                     transpose_smaps=False,\n",
    "#                                                                                     max_Nk=10)"
   ]
  },
  {
   "cell_type": "code",
   "execution_count": 3,
   "metadata": {},
   "outputs": [],
   "source": [
    "dataset_info = datasets_cava_v1[10]\n",
    "dataset, validation_dataset = SparseCartesianDataset.from_sparse_matfile2d_extract_validation_dataset_rebin(dataset_info[\"matfile_path\"], dataset_info[\"listfile_path\"], remove_padding=True, validation_percentage=5, number_of_lines_per_frame=40)"
   ]
  },
  {
   "cell_type": "code",
   "execution_count": 25,
   "metadata": {},
   "outputs": [],
   "source": [
    "dataloader = torch.utils.data.DataLoader(dataset, batch_size=1, shuffle=True, collate_fn=collocate_concat)"
   ]
  },
  {
   "cell_type": "code",
   "execution_count": 26,
   "metadata": {},
   "outputs": [
    {
     "data": {
      "text/plain": [
       "<src.dataset.SparseCartesianDataset at 0x7f10c42a79d0>"
      ]
     },
     "execution_count": 26,
     "metadata": {},
     "output_type": "execute_result"
    }
   ],
   "source": [
    "dataloader.dataset"
   ]
  },
  {
   "cell_type": "code",
   "execution_count": 6,
   "metadata": {},
   "outputs": [],
   "source": [
    "# dataset_info = datasets_cava_v1[10]\n",
    "# dataset_orig = CartesianSliceDataset.from_sparse_matfile2d(dataset_info[\"matfile_path\"], dataset_info[\"listfile_path\"], remove_padding=True)\n",
    "# dataset, validation_dataset = CartesianSliceDataset.rebin_cartesian_dataset_extract_validationset(dataset_orig, dataset_info[\"listfile_path\"], number_of_lines_per_frame=6, validation_percentage=5)"
   ]
  }
 ],
 "metadata": {
  "kernelspec": {
   "display_name": "base",
   "language": "python",
   "name": "python3"
  },
  "language_info": {
   "codemirror_mode": {
    "name": "ipython",
    "version": 3
   },
   "file_extension": ".py",
   "mimetype": "text/x-python",
   "name": "python",
   "nbconvert_exporter": "python",
   "pygments_lexer": "ipython3",
   "version": "3.7.7 (default, May  7 2020, 21:25:33) \n[GCC 7.3.0]"
  },
  "orig_nbformat": 4,
  "vscode": {
   "interpreter": {
    "hash": "d4d1e4263499bec80672ea0156c357c1ee493ec2b1c70f0acce89fc37c4a6abe"
   }
  }
 },
 "nbformat": 4,
 "nbformat_minor": 2
}
